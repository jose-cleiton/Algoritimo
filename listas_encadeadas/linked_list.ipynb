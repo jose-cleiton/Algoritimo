{
          "cells": [
                    {
                              "cell_type": "markdown",
                              "metadata": {},
                              "source": [
                                        "https://www.youtube.com/watch?v=jIM87UqOq3g&list=PL5TJqBvpXQv5Bb71AE5Cd_kB5rNsfU4Cp&index=8&ab_channel=Programa%C3%A7%C3%A3oDin%C3%A2mica"
                              ]
                    },
                    {
                              "cell_type": "code",
                              "execution_count": 17,
                              "metadata": {},
                              "outputs": [
                                        {
                                                  "name": "stdout",
                                                  "output_type": "stream",
                                                  "text": [
                                                            "\u001b[H\u001b[2J1\n",
                                                            "2\n",
                                                            "0\n",
                                                            "3\n"
                                                  ]
                                        }
                              ],
                              "source": [
                                        "import os\n",
                                        "\n",
                                        "from node import Node\n",
                                        "\n",
                                        "\n",
                                        "class Linkedilist:\n",
                                        "    def __init__(self):\n",
                                        "        self.head = None\n",
                                        "        self._size = 0\n",
                                        "\n",
                                        "    def append(self, elem):\n",
                                        "        if self.head:\n",
                                        "            pointer = self.head\n",
                                        "            while pointer.next:\n",
                                        "                pointer = pointer.next\n",
                                        "            pointer.next = Node(elem)\n",
                                        "\n",
                                        "        else:\n",
                                        "            self.head = Node(elem)\n",
                                        "        self._size = self._size + 1\n",
                                        "\n",
                                        "    def __len__(self):\n",
                                        "        return self._size\n",
                                        "\n",
                                        "    def _getnode(self, index):\n",
                                        "        pointer = self.head\n",
                                        "        for i in range(index):\n",
                                        "            if pointer:\n",
                                        "                pointer = pointer.next\n",
                                        "            else:\n",
                                        "                raise IndexError(\"<-list index out of range->\")\n",
                                        "\n",
                                        "        return pointer\n",
                                        "\n",
                                        "    def set(self, index, elem):\n",
                                        "        pass\n",
                                        "\n",
                                        "    def __getitem__(self, index):\n",
                                        "        pointer = self._getnode(index)\n",
                                        "        if pointer:\n",
                                        "            return pointer.data\n",
                                        "\n",
                                        "        raise IndexError(\"<-list index out of range->\")\n",
                                        "\n",
                                        "    def __setitem__(self, index, elem):\n",
                                        "        pointer = self._getnode(index)\n",
                                        "        if pointer:\n",
                                        "            pointer.data = elem\n",
                                        "        else:\n",
                                        "            raise IndexError(\"<-list index out of range->\")\n",
                                        "\n",
                                        "    def index(self, elem):\n",
                                        "        pointer = self.head\n",
                                        "        i = 0\n",
                                        "        while pointer:\n",
                                        "            if pointer.data == elem:\n",
                                        "                return i\n",
                                        "            pointer = pointer.next\n",
                                        "            i = i + 1\n",
                                        "        raise ValueError(\"{} not in list->\".format(elem))\n",
                                        "\n",
                                        "    def insert(self, index, elem):\n",
                                        "        if index == 0:\n",
                                        "            node = Node(elem)\n",
                                        "            node.next = self.head\n",
                                        "            self.head = node\n",
                                        "        else:\n",
                                        "            pointer = self._getnode(index - 1)\n",
                                        "            node.next = pointer.next\n",
                                        "            pointer.next = node\n",
                                        "        self._size = self._size + 1\n",
                                        "\n",
                                        "\n",
                                        "if __name__ == \"__main__\":\n",
                                        "    os.system(\"cls\" if os.name == \"nt\" else \"clear\")\n",
                                        "\n",
                                        "    lista = Linkedilist()\n",
                                        "\n",
                                        "    lista.append(1)\n",
                                        "    lista.append(2)\n",
                                        "    print(lista.index(2))\n",
                                        "    print(len(lista))\n",
                                        "    lista.insert(0, 3)\n",
                                        "    print(lista.index(3))\n",
                                        "    print(lista[0])\n"
                              ]
                    },
                    {
                              "cell_type": "markdown",
                              "metadata": {},
                              "source": [
                                        "Inserção e Remoção em Listas Encadeadas em Python | Estruturas de Dados #6\n"
                              ]
                    },
                    {
                              "cell_type": "markdown",
                              "metadata": {},
                              "source": [
                                        "https://www.youtube.com/watch?v=tJGkcSqcPms&list=PL5TJqBvpXQv5Bb71AE5Cd_kB5rNsfU4Cp&index=9&ab_channel=Programa%C3%A7%C3%A3oDin%C3%A2mica"
                              ]
                    }
          ],
          "metadata": {
                    "kernelspec": {
                              "display_name": "Python 3.11.0 ('.venv': venv)",
                              "language": "python",
                              "name": "python3"
                    },
                    "language_info": {
                              "codemirror_mode": {
                                        "name": "ipython",
                                        "version": 3
                              },
                              "file_extension": ".py",
                              "mimetype": "text/x-python",
                              "name": "python",
                              "nbconvert_exporter": "python",
                              "pygments_lexer": "ipython3",
                              "version": "3.11.0"
                    },
                    "orig_nbformat": 4,
                    "vscode": {
                              "interpreter": {
                                        "hash": "e6752d7686648913a54e5c0aa265bf47689ceb18e8ded001f35b4c6641c07517"
                              }
                    }
          },
          "nbformat": 4,
          "nbformat_minor": 2
}
