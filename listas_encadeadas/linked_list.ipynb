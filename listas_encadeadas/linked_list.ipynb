{
          "cells": [
                    {
                              "cell_type": "markdown",
                              "metadata": {},
                              "source": [
                                        "https://www.youtube.com/watch?v=jIM87UqOq3g&list=PL5TJqBvpXQv5Bb71AE5Cd_kB5rNsfU4Cp&index=8&ab_channel=Programa%C3%A7%C3%A3oDin%C3%A2mica"
                              ]
                    },
                    {
                              "cell_type": "code",
                              "execution_count": 4,
                              "metadata": {},
                              "outputs": [
                                        {
                                                  "name": "stdout",
                                                  "output_type": "stream",
                                                  "text": [
                                                            "\u001b[H\u001b[2J[7, 80, 56, 32, 17]\n"
                                                  ]
                                        }
                              ],
                              "source": [
                                        "# sequencial = []\n",
                                        "import os\n",
                                        "\n",
                                        "from node import Node\n",
                                        "\n",
                                        "\n",
                                        "class Linkedilist:\n",
                                        "    def __init__(self):\n",
                                        "        self.head = None\n",
                                        "        self._size = 0\n",
                                        "\n",
                                        "    def __repr__(self):\n",
                                        "        arr = \"[\"\n",
                                        "        pointer = self.head\n",
                                        "        for _ in range(self._size - 1):\n",
                                        "            arr = arr + str(pointer.data) + \", \"\n",
                                        "            pointer = pointer.next\n",
                                        "        arr = arr + str(pointer.data) + \"]\"\n",
                                        "        return arr\n",
                                        "\n",
                                        "    def __str__(self):\n",
                                        "        return self.__repr__()\n",
                                        "\n",
                                        "    def __len__(self):\n",
                                        "        return self._size\n",
                                        "\n",
                                        "    def _getnode(self, index):\n",
                                        "        pointer = self.head\n",
                                        "        for _ in range(index):\n",
                                        "            if pointer:\n",
                                        "                pointer = pointer.next\n",
                                        "            else:\n",
                                        "                raise IndexError(\"<-list index out of range->\")\n",
                                        "\n",
                                        "        return pointer\n",
                                        "\n",
                                        "    def __getitem__(self, index):\n",
                                        "        pointer = self._getnode(index)\n",
                                        "        if pointer:\n",
                                        "            return pointer.data\n",
                                        "\n",
                                        "        raise IndexError(\"<-list index out of range->\")\n",
                                        "\n",
                                        "    def __setitem__(self, index, elem):\n",
                                        "        pointer = self._getnode(index)\n",
                                        "        if pointer:\n",
                                        "            pointer.data = elem\n",
                                        "        else:\n",
                                        "            raise IndexError(\"<-list index out of range->\")\n",
                                        "\n",
                                        "    def index(self, elem):\n",
                                        "        pointer = self.head\n",
                                        "        i = 0\n",
                                        "        while pointer:\n",
                                        "            if pointer.data == elem:\n",
                                        "                return i\n",
                                        "            pointer = pointer.next\n",
                                        "            i = i + 1\n",
                                        "        raise ValueError(f\"{elem} not in list->\")\n",
                                        "\n",
                                        "    def insert_start(self, node):\n",
                                        "        node.next = self.head\n",
                                        "        self.head = node\n",
                                        "\n",
                                        "    def insert_in_the_index(self, index, node):\n",
                                        "        pointer = self._getnode(index - 1)\n",
                                        "        node.next = pointer.next\n",
                                        "        pointer.next = node\n",
                                        "\n",
                                        "    def append(self, elem):\n",
                                        "        self.insert(self._size, elem)\n",
                                        "\n",
                                        "    def insert(self, index, elem):\n",
                                        "        node = Node(elem)\n",
                                        "\n",
                                        "        if index == 0:\n",
                                        "            self.insert_start(node)\n",
                                        "        else:\n",
                                        "            self.insert_in_the_index(index, node)\n",
                                        "        self._size = self._size + 1\n",
                                        "\n",
                                        "    def remove_first(self):\n",
                                        "        value_to_be_removed = self.head.data\n",
                                        "        if value_to_be_removed:\n",
                                        "            self.head = self.head.next\n",
                                        "            self._size = self._size - 1\n",
                                        "            value_to_be_removed = None\n",
                                        "        return value_to_be_removed\n",
                                        "\n",
                                        "    def remove_last(self):\n",
                                        "        pointer = self.head\n",
                                        "        while pointer.next.next:\n",
                                        "            pointer = pointer.next\n",
                                        "        value_to_be_removed = pointer.next.data\n",
                                        "        pointer.next = None\n",
                                        "        self._size = self._size - 1\n",
                                        "        return value_to_be_removed\n",
                                        "\n",
                                        "    def remove(self, elem):\n",
                                        "        pointer = self.head\n",
                                        "        if pointer.data == elem:\n",
                                        "            self.remove_first()\n",
                                        "            return f\"o {elem} foi removido com exito\"\n",
                                        "\n",
                                        "        while pointer.next:\n",
                                        "            if pointer.next.data == elem:\n",
                                        "                pointer.next = pointer.next.next\n",
                                        "                self._size = self._size - 1\n",
                                        "                break\n",
                                        "            pointer = pointer.next\n",
                                        "        else:\n",
                                        "            raise ValueError(f\"{elem} not in list->\")\n",
                                        "        return f\"o {elem} foi removido com exito\"\n",
                                        "\n",
                                        "    def pop(self):\n",
                                        "        return self.remove_last()\n",
                                        "\n",
                                        "\n",
                                        "if __name__ == \"__main__\":\n",
                                        "    os.system(\"cls\" if os.name == \"nt\" else \"clear\")\n",
                                        "\n",
                                        "    lista = Linkedilist()\n",
                                        "\n",
                                        "    lista.append(7)\n",
                                        "    lista.append(80)\n",
                                        "    lista.append(56)\n",
                                        "    lista.append(32)\n",
                                        "    lista.append(17)\n",
                                        "    print(lista)\n"
                              ]
                    },
                    {
                              "cell_type": "code",
                              "execution_count": 3,
                              "metadata": {},
                              "outputs": [
                                        {
                                                  "data": {
                                                            "text/plain": [
                                                                      "[7, 80, 56, 32, 17]"
                                                            ]
                                                  },
                                                  "execution_count": 3,
                                                  "metadata": {},
                                                  "output_type": "execute_result"
                                        }
                              ],
                              "source": [
                                        "lista"
                              ]
                    },
                    {
                              "cell_type": "code",
                              "execution_count": 69,
                              "metadata": {},
                              "outputs": [
                                        {
                                                  "data": {
                                                            "text/plain": [
                                                                      "7"
                                                            ]
                                                  },
                                                  "execution_count": 69,
                                                  "metadata": {},
                                                  "output_type": "execute_result"
                                        }
                              ],
                              "source": [
                                        "lista[0]"
                              ]
                    },
                    {
                              "cell_type": "code",
                              "execution_count": 66,
                              "metadata": {},
                              "outputs": [
                                        {
                                                  "data": {
                                                            "text/plain": [
                                                                      "'o 17 foi removido com exito'"
                                                            ]
                                                  },
                                                  "execution_count": 66,
                                                  "metadata": {},
                                                  "output_type": "execute_result"
                                        }
                              ],
                              "source": [
                                        "lista.remove(17)"
                              ]
                    },
                    {
                              "cell_type": "code",
                              "execution_count": 87,
                              "metadata": {},
                              "outputs": [
                                        {
                                                  "data": {
                                                            "text/plain": [
                                                                      "'o indice0,  foi removido com exito'"
                                                            ]
                                                  },
                                                  "execution_count": 87,
                                                  "metadata": {},
                                                  "output_type": "execute_result"
                                        }
                              ],
                              "source": [
                                        "lista.remove_at(0)"
                              ]
                    },
                    {
                              "cell_type": "code",
                              "execution_count": 17,
                              "metadata": {},
                              "outputs": [],
                              "source": [
                                        "lista.append(100)"
                              ]
                    },
                    {
                              "cell_type": "code",
                              "execution_count": 83,
                              "metadata": {},
                              "outputs": [
                                        {
                                                  "data": {
                                                            "text/plain": [
                                                                      "17"
                                                            ]
                                                  },
                                                  "execution_count": 83,
                                                  "metadata": {},
                                                  "output_type": "execute_result"
                                        }
                              ],
                              "source": [
                                        "lista[4]"
                              ]
                    },
                    {
                              "cell_type": "code",
                              "execution_count": 42,
                              "metadata": {},
                              "outputs": [],
                              "source": [
                                        "lista.insert(3,888)"
                              ]
                    },
                    {
                              "cell_type": "code",
                              "execution_count": 84,
                              "metadata": {},
                              "outputs": [],
                              "source": [
                                        "lista[3] =5"
                              ]
                    },
                    {
                              "cell_type": "code",
                              "execution_count": 89,
                              "metadata": {},
                              "outputs": [
                                        {
                                                  "data": {
                                                            "text/plain": [
                                                                      "[80, 56, 5]"
                                                            ]
                                                  },
                                                  "execution_count": 89,
                                                  "metadata": {},
                                                  "output_type": "execute_result"
                                        }
                              ],
                              "source": [
                                        "lista"
                              ]
                    },
                    {
                              "cell_type": "code",
                              "execution_count": 21,
                              "metadata": {},
                              "outputs": [],
                              "source": [
                                        "lista.insert(len(lista), 50)"
                              ]
                    },
                    {
                              "cell_type": "code",
                              "execution_count": 44,
                              "metadata": {},
                              "outputs": [
                                        {
                                                  "data": {
                                                            "text/plain": [
                                                                      "17"
                                                            ]
                                                  },
                                                  "execution_count": 44,
                                                  "metadata": {},
                                                  "output_type": "execute_result"
                                        }
                              ],
                              "source": [
                                        "lista[len(lista)-1]"
                              ]
                    },
                    {
                              "cell_type": "code",
                              "execution_count": 45,
                              "metadata": {},
                              "outputs": [],
                              "source": [
                                        "lista.append(333)"
                              ]
                    },
                    {
                              "cell_type": "code",
                              "execution_count": 70,
                              "metadata": {},
                              "outputs": [
                                        {
                                                  "data": {
                                                            "text/plain": [
                                                                      "17"
                                                            ]
                                                  },
                                                  "execution_count": 70,
                                                  "metadata": {},
                                                  "output_type": "execute_result"
                                        }
                              ],
                              "source": [
                                        "lista[len(lista)-1]"
                              ]
                    },
                    {
                              "cell_type": "markdown",
                              "metadata": {},
                              "source": [
                                        "Inserção e Remoção em Listas Encadeadas em Python | Estruturas de Dados #6\n"
                              ]
                    },
                    {
                              "cell_type": "markdown",
                              "metadata": {},
                              "source": [
                                        "https://www.youtube.com/watch?v=tJGkcSqcPms&list=PL5TJqBvpXQv5Bb71AE5Cd_kB5rNsfU4Cp&index=9&ab_channel=Programa%C3%A7%C3%A3oDin%C3%A2mica"
                              ]
                    }
          ],
          "metadata": {
                    "kernelspec": {
                              "display_name": "Python 3.11.0 ('.venv': venv)",
                              "language": "python",
                              "name": "python3"
                    },
                    "language_info": {
                              "codemirror_mode": {
                                        "name": "ipython",
                                        "version": 3
                              },
                              "file_extension": ".py",
                              "mimetype": "text/x-python",
                              "name": "python",
                              "nbconvert_exporter": "python",
                              "pygments_lexer": "ipython3",
                              "version": "3.11.0"
                    },
                    "orig_nbformat": 4,
                    "vscode": {
                              "interpreter": {
                                        "hash": "e6752d7686648913a54e5c0aa265bf47689ceb18e8ded001f35b4c6641c07517"
                              }
                    }
          },
          "nbformat": 4,
          "nbformat_minor": 2
}
