{
          "cells": [
                    {
                              "cell_type": "code",
                              "execution_count": 5,
                              "metadata": {},
                              "outputs": [],
                              "source": [
                                        "# sequencial = []\n",
                                        "\n",
                                        "\n",
                                        "from node import Node\n",
                                        "\n",
                                        "\n",
                                        "class Linkedilist:\n",
                                        "    def __init__(self):\n",
                                        "        self.head = None\n",
                                        "        self.tail = 0\n",
                                        "\n",
                                        "    def append(self, elem):\n",
                                        "        if self.head:\n",
                                        "            pointer = self.head\n",
                                        "            while pointer.next:\n",
                                        "                pointer = pointer.next\n",
                                        "            pointer.next = Node(elem)\n",
                                        "           \n",
                                        "        else:\n",
                                        "            self.head = Node(elem)\n",
                                        "        self.tail = self.tail + 1        "
                              ]
                    },
                    {
                              "cell_type": "code",
                              "execution_count": 9,
                              "metadata": {},
                              "outputs": [
                                        {
                                                  "data": {
                                                            "text/plain": [
                                                                      "0"
                                                            ]
                                                  },
                                                  "execution_count": 9,
                                                  "metadata": {},
                                                  "output_type": "execute_result"
                                        }
                              ],
                              "source": [
                                        "lista = Linkedilist()\n",
                                        "lista.tail"
                              ]
                    },
                    {
                              "cell_type": "code",
                              "execution_count": 10,
                              "metadata": {},
                              "outputs": [
                                        {
                                                  "data": {
                                                            "text/plain": [
                                                                      "1"
                                                            ]
                                                  },
                                                  "execution_count": 10,
                                                  "metadata": {},
                                                  "output_type": "execute_result"
                                        }
                              ],
                              "source": [
                                        "lista.append(5)\n",
                                        "lista.tail"
                              ]
                    }
          ],
          "metadata": {
                    "kernelspec": {
                              "display_name": "Python 3.11.0 ('.venv': venv)",
                              "language": "python",
                              "name": "python3"
                    },
                    "language_info": {
                              "codemirror_mode": {
                                        "name": "ipython",
                                        "version": 3
                              },
                              "file_extension": ".py",
                              "mimetype": "text/x-python",
                              "name": "python",
                              "nbconvert_exporter": "python",
                              "pygments_lexer": "ipython3",
                              "version": "3.11.0"
                    },
                    "orig_nbformat": 4,
                    "vscode": {
                              "interpreter": {
                                        "hash": "e6752d7686648913a54e5c0aa265bf47689ceb18e8ded001f35b4c6641c07517"
                              }
                    }
          },
          "nbformat": 4,
          "nbformat_minor": 2
}
