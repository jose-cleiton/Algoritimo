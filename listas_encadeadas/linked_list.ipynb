{
          "cells": [
                    {
                              "cell_type": "markdown",
                              "metadata": {},
                              "source": [
                                        "https://www.youtube.com/watch?v=jIM87UqOq3g&list=PL5TJqBvpXQv5Bb71AE5Cd_kB5rNsfU4Cp&index=8&ab_channel=Programa%C3%A7%C3%A3oDin%C3%A2mica"
                              ]
                    },
                    {
                              "cell_type": "code",
                              "execution_count": 14,
                              "metadata": {},
                              "outputs": [
                                        {
                                                  "name": "stdout",
                                                  "output_type": "stream",
                                                  "text": [
                                                            "\u001b[H\u001b[2J"
                                                  ]
                                        }
                              ],
                              "source": [
                                        "# sequencial = []\n",
                                        "import os\n",
                                        "\n",
                                        "from node import Node\n",
                                        "\n",
                                        "\n",
                                        "class Linkedilist:\n",
                                        "    def __init__(self):\n",
                                        "        self.head = None\n",
                                        "        self._size = 0\n",
                                        "\n",
                                        "    def __str__(self):\n",
                                        "        return f\"LinkedList(len={self._size}, value={self.head})\"\n",
                                        "\n",
                                        "   \n",
                                        "\n",
                                        "    def __len__(self):\n",
                                        "        return self._size\n",
                                        "\n",
                                        "    def _getnode(self, index):\n",
                                        "        pointer = self.head\n",
                                        "        for i in range(index):\n",
                                        "            if pointer:\n",
                                        "                pointer = pointer.next\n",
                                        "            else:\n",
                                        "                raise IndexError(\"<-list index out of range->\")\n",
                                        "\n",
                                        "        return pointer\n",
                                        "\n",
                                        "    \n",
                                        "    def __getitem__(self, index):\n",
                                        "        pointer = self._getnode(index)\n",
                                        "        if pointer:\n",
                                        "            return pointer.data\n",
                                        "\n",
                                        "        raise IndexError(\"<-list index out of range->\")\n",
                                        "\n",
                                        "    def __setitem__(self, index, elem):\n",
                                        "        pointer = self._getnode(index)\n",
                                        "        if pointer:\n",
                                        "            pointer.data = elem\n",
                                        "        else:\n",
                                        "            raise IndexError(\"<-list index out of range->\")\n",
                                        "\n",
                                        "    def index(self, elem):\n",
                                        "        pointer = self.head\n",
                                        "        i = 0\n",
                                        "        while pointer:\n",
                                        "            if pointer.data == elem:\n",
                                        "                return i\n",
                                        "            pointer = pointer.next\n",
                                        "            i = i + 1\n",
                                        "        raise ValueError(\"{} not in list->\".format(elem))\n",
                                        "\n",
                                        "    def insert_start(self, node):\n",
                                        "        node.next = self.head\n",
                                        "        self.head = node\n",
                                        "\n",
                                        "    def insert_in_the_index(self, index, node):\n",
                                        "        pointer = self._getnode(index - 1)\n",
                                        "        node.next = pointer.next\n",
                                        "        pointer.next = node\n",
                                        "        \n",
                                        "    def append(self, elem):\n",
                                        "        self.insert(self._size, elem)\n",
                                        "\n",
                                        "    def insert(self, index, elem):\n",
                                        "        node = Node(elem)\n",
                                        "\n",
                                        "        if index == 0:\n",
                                        "            self.insert_start(node)\n",
                                        "        else:\n",
                                        "            self.insert_in_the_index(index, node)\n",
                                        "        self._size = self._size + 1\n",
                                        "        \n",
                                        "\n",
                                        "if __name__ == \"__main__\":\n",
                                        "    os.system(\"cls\" if os.name == \"nt\" else \"clear\")\n",
                                        "\n",
                                        "    lista = Linkedilist()\n",
                                        "\n",
                                        "    lista.append(7)\n",
                                        "    lista.append(80)\n",
                                        "    lista.append(56)\n",
                                        "    lista.append(32)\n",
                                        "    lista.append(17)\n",
                                        "    \n",
                                        "    \n",
                                        "   \n"
                              ]
                    },
                    {
                              "cell_type": "code",
                              "execution_count": 3,
                              "metadata": {},
                              "outputs": [],
                              "source": [
                                        "lista.insert(0,22)"
                              ]
                    },
                    {
                              "cell_type": "code",
                              "execution_count": 4,
                              "metadata": {},
                              "outputs": [
                                        {
                                                  "data": {
                                                            "text/plain": [
                                                                      "22"
                                                            ]
                                                  },
                                                  "execution_count": 4,
                                                  "metadata": {},
                                                  "output_type": "execute_result"
                                        }
                              ],
                              "source": [
                                        "lista[0]"
                              ]
                    },
                    {
                              "cell_type": "code",
                              "execution_count": 5,
                              "metadata": {},
                              "outputs": [],
                              "source": [
                                        "lista.append(100)"
                              ]
                    },
                    {
                              "cell_type": "code",
                              "execution_count": 6,
                              "metadata": {},
                              "outputs": [
                                        {
                                                  "data": {
                                                            "text/plain": [
                                                                      "17"
                                                            ]
                                                  },
                                                  "execution_count": 6,
                                                  "metadata": {},
                                                  "output_type": "execute_result"
                                        }
                              ],
                              "source": [
                                        "lista[5]"
                              ]
                    },
                    {
                              "cell_type": "code",
                              "execution_count": 7,
                              "metadata": {},
                              "outputs": [],
                              "source": [
                                        "lista.insert(3,888)"
                              ]
                    },
                    {
                              "cell_type": "code",
                              "execution_count": 8,
                              "metadata": {},
                              "outputs": [
                                        {
                                                  "data": {
                                                            "text/plain": [
                                                                      "888"
                                                            ]
                                                  },
                                                  "execution_count": 8,
                                                  "metadata": {},
                                                  "output_type": "execute_result"
                                        }
                              ],
                              "source": [
                                        "lista[3]"
                              ]
                    },
                    {
                              "cell_type": "code",
                              "execution_count": 9,
                              "metadata": {},
                              "outputs": [],
                              "source": [
                                        "lista.insert(len(lista), 50)"
                              ]
                    },
                    {
                              "cell_type": "code",
                              "execution_count": 10,
                              "metadata": {},
                              "outputs": [
                                        {
                                                  "data": {
                                                            "text/plain": [
                                                                      "50"
                                                            ]
                                                  },
                                                  "execution_count": 10,
                                                  "metadata": {},
                                                  "output_type": "execute_result"
                                        }
                              ],
                              "source": [
                                        "lista[len(lista)-1]"
                              ]
                    },
                    {
                              "cell_type": "code",
                              "execution_count": 11,
                              "metadata": {},
                              "outputs": [],
                              "source": [
                                        "lista.append(333)"
                              ]
                    },
                    {
                              "cell_type": "code",
                              "execution_count": 12,
                              "metadata": {},
                              "outputs": [
                                        {
                                                  "data": {
                                                            "text/plain": [
                                                                      "333"
                                                            ]
                                                  },
                                                  "execution_count": 12,
                                                  "metadata": {},
                                                  "output_type": "execute_result"
                                        }
                              ],
                              "source": [
                                        "lista[len(lista)-1]"
                              ]
                    },
                    {
                              "cell_type": "markdown",
                              "metadata": {},
                              "source": [
                                        "Inserção e Remoção em Listas Encadeadas em Python | Estruturas de Dados #6\n"
                              ]
                    },
                    {
                              "cell_type": "markdown",
                              "metadata": {},
                              "source": [
                                        "https://www.youtube.com/watch?v=tJGkcSqcPms&list=PL5TJqBvpXQv5Bb71AE5Cd_kB5rNsfU4Cp&index=9&ab_channel=Programa%C3%A7%C3%A3oDin%C3%A2mica"
                              ]
                    }
          ],
          "metadata": {
                    "kernelspec": {
                              "display_name": "Python 3.11.0 ('.venv': venv)",
                              "language": "python",
                              "name": "python3"
                    },
                    "language_info": {
                              "codemirror_mode": {
                                        "name": "ipython",
                                        "version": 3
                              },
                              "file_extension": ".py",
                              "mimetype": "text/x-python",
                              "name": "python",
                              "nbconvert_exporter": "python",
                              "pygments_lexer": "ipython3",
                              "version": "3.11.0"
                    },
                    "orig_nbformat": 4,
                    "vscode": {
                              "interpreter": {
                                        "hash": "e6752d7686648913a54e5c0aa265bf47689ceb18e8ded001f35b4c6641c07517"
                              }
                    }
          },
          "nbformat": 4,
          "nbformat_minor": 2
}
