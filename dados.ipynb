{
 "cells": [
  {
   "cell_type": "code",
   "execution_count": 133,
   "metadata": {},
   "outputs": [
    {
     "name": "stdout",
     "output_type": "stream",
     "text": [
      "ok [7]\n"
     ]
    }
   ],
   "source": [
    "a=[5,4,3,2,9,83,7]\n",
    "b=a[6:]\n",
    "c=b\n",
    "print('ok',c)"
   ]
  },
  {
   "cell_type": "code",
   "execution_count": 170,
   "metadata": {},
   "outputs": [
    {
     "name": "stdout",
     "output_type": "stream",
     "text": [
      "O índice do elemento 0 é 3, \n"
     ]
    }
   ],
   "source": [
    "\n",
    "\n",
    "indice = []\n",
    "def search(lista, elem):\n",
    "    \n",
    "    if len(lista) == 0: # caso de saída\n",
    "        return None\n",
    "        \n",
    "  \n",
    "    indice.append(len(lista))       \n",
    "            \n",
    "    \n",
    "    if lista[0]== elem:\n",
    "         \n",
    "         return len(indice)-1\n",
    "    else:\n",
    "      \n",
    "      return search(lista[1:], elem)\n",
    "    \n",
    "if __name__ == '__main__':   \n",
    "    \n",
    "   lista_estranha = [8,'5',32,0,'python',11,7,12,15,87]\n",
    "   elemento = 0\n",
    "   indice = search(lista_estranha, elemento)\n",
    "   if indice is not None:\n",
    "       print('O índice do elemento {} é {}, '.format(elemento, indice))\n",
    "   else:\n",
    "       print('O elemento {} não está na lista'.format(elemento)) \n"
   ]
  },
  {
   "cell_type": "code",
   "execution_count": 57,
   "metadata": {},
   "outputs": [],
   "source": [
    "# def search(lista, elem):\n",
    "#     try:\n",
    "#         return lista.index(elem)\n",
    "#     except ValueError:\n",
    "#         return None\n",
    "    \n",
    "\n",
    "# if __name__ == '__main__':   \n",
    "    \n",
    "#    lista_estranha = [8,'5',32,0,'python',11]\n",
    "#    elemento = 0\n",
    "#    indice = search(lista_estranha, elemento)\n",
    "#    if indice is not None:\n",
    "#        print('O índice do elemento {} é {}, '.format(elemento, indice))\n",
    "#    else:\n",
    "#        print('O elemento {} não está na lista'.format(elemento))    "
   ]
  }
 ],
 "metadata": {
  "kernelspec": {
   "display_name": "Python 3.11.0 64-bit",
   "language": "python",
   "name": "python3"
  },
  "language_info": {
   "codemirror_mode": {
    "name": "ipython",
    "version": 3
   },
   "file_extension": ".py",
   "mimetype": "text/x-python",
   "name": "python",
   "nbconvert_exporter": "python",
   "pygments_lexer": "ipython3",
   "version": "3.11.0"
  },
  "orig_nbformat": 4,
  "vscode": {
   "interpreter": {
    "hash": "aee8b7b246df8f9039afb4144a1f6fd8d2ca17a180786b69acc140d282b71a49"
   }
  }
 },
 "nbformat": 4,
 "nbformat_minor": 2
}
