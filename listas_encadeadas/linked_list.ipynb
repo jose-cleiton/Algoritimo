{
          "cells": [
                    {
                              "cell_type": "markdown",
                              "metadata": {},
                              "source": [
                                        "https://www.youtube.com/watch?v=jIM87UqOq3g&list=PL5TJqBvpXQv5Bb71AE5Cd_kB5rNsfU4Cp&index=8&ab_channel=Programa%C3%A7%C3%A3oDin%C3%A2mica"
                              ]
                    },
                    {
                              "cell_type": "code",
                              "execution_count": 10,
                              "metadata": {},
                              "outputs": [],
                              "source": [
                                        "# sequencial = []\n",
                                        "import os\n",
                                        "\n",
                                        "from node import Node\n",
                                        "\n",
                                        "\n",
                                        "class Linkedilist:\n",
                                        "    def __init__(self):\n",
                                        "        self.head = None\n",
                                        "        self._size = 0\n",
                                        "\n",
                                        "    def append(self, elem):\n",
                                        "        if self.head:\n",
                                        "            pointer = self.head\n",
                                        "            while pointer.next:\n",
                                        "                pointer = pointer.next\n",
                                        "            pointer.next = Node(elem)\n",
                                        "\n",
                                        "        else:\n",
                                        "            self.head = Node(elem)\n",
                                        "        self._size = self._size + 1\n",
                                        "\n",
                                        "    def __len__(self):\n",
                                        "        return self._size\n",
                                        "    \n",
                                        "    def get(self, index):\n",
                                        "        pass\n",
                                        "    \n",
                                        "    def set(self, index, elem):\n",
                                        "        pass\n",
                                        "    \n",
                                        "    def __getitem__(self, index):\n",
                                        "        pointer = self.head\n",
                                        "        for i in range(index):\n",
                                        "            if pointer:\n",
                                        "                pointer = pointer.next\n",
                                        "            else:\n",
                                        "                raise IndexError('<-list index out of range->')   \n",
                                        "        if pointer:\n",
                                        "            return pointer.data\n",
                                        "             \n",
                                        "        raise IndexError('<-list index out of range->')\n",
                                        "\n",
                                        "    \n",
                                        "    def __setitem__(self, index, elem):\n",
                                        "        pointer = self.head\n",
                                        "        for i in range(index):\n",
                                        "            if pointer:\n",
                                        "                pointer = pointer.next\n",
                                        "            else:\n",
                                        "                raise IndexError('<-list index out of range->')   \n",
                                        "        if pointer:\n",
                                        "            pointer.data = elem\n",
                                        "        else:     \n",
                                        "            raise IndexError('<-list index out of range->')\n",
                                        "\n",
                                        "\n",
                                        "if __name__ == \"__main__\":\n",
                                        "\n",
                                        "    lista = Linkedilist()\n",
                                        "    lista.append(1)\n",
                                        "    lista.append(2)\n",
                                        "    lista.append(3)\n",
                                        "    lista.append(4)\n",
                                        "    "
                              ]
                    },
                    {
                              "cell_type": "code",
                              "execution_count": 14,
                              "metadata": {},
                              "outputs": [
                                        {
                                                  "data": {
                                                            "text/plain": [
                                                                      "4"
                                                            ]
                                                  },
                                                  "execution_count": 14,
                                                  "metadata": {},
                                                  "output_type": "execute_result"
                                        }
                              ],
                              "source": [
                                        "lista[3]"
                              ]
                    }
          ],
          "metadata": {
                    "kernelspec": {
                              "display_name": "Python 3.11.0 ('.venv': venv)",
                              "language": "python",
                              "name": "python3"
                    },
                    "language_info": {
                              "codemirror_mode": {
                                        "name": "ipython",
                                        "version": 3
                              },
                              "file_extension": ".py",
                              "mimetype": "text/x-python",
                              "name": "python",
                              "nbconvert_exporter": "python",
                              "pygments_lexer": "ipython3",
                              "version": "3.11.0"
                    },
                    "orig_nbformat": 4,
                    "vscode": {
                              "interpreter": {
                                        "hash": "e6752d7686648913a54e5c0aa265bf47689ceb18e8ded001f35b4c6641c07517"
                              }
                    }
          },
          "nbformat": 4,
          "nbformat_minor": 2
}
